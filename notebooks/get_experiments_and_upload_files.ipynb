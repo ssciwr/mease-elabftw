{
 "cells": [
  {
   "cell_type": "markdown",
   "id": "e30c3874",
   "metadata": {},
   "source": [
    "# mease-elabftw: get experiments and upload files"
   ]
  },
  {
   "cell_type": "markdown",
   "id": "9f32e4b6",
   "metadata": {},
   "source": [
    "Note: you need to have exported a valid API token to use this notebook, e.g.\n",
    "`export ELABFTW_TOKEN=abc123abc123abc123`"
   ]
  },
  {
   "cell_type": "markdown",
   "id": "0fb6b0fe",
   "metadata": {},
   "source": [
    "### Import mease_elabftw"
   ]
  },
  {
   "cell_type": "code",
   "execution_count": null,
   "id": "9f88e6d1",
   "metadata": {},
   "outputs": [],
   "source": [
    "import mease_elabftw"
   ]
  },
  {
   "cell_type": "markdown",
   "id": "5dce4556",
   "metadata": {},
   "source": [
    "### List all experiments matching `owner`"
   ]
  },
  {
   "cell_type": "code",
   "execution_count": null,
   "id": "a573b6e3",
   "metadata": {},
   "outputs": [],
   "source": [
    "mease_elabftw.list_experiments(\"Liam\")"
   ]
  },
  {
   "cell_type": "markdown",
   "id": "fb799ef4",
   "metadata": {},
   "source": [
    "### Get all experiments matching `owner` without an existing upload matching `exclude_filename`"
   ]
  },
  {
   "cell_type": "code",
   "execution_count": null,
   "id": "f3949d72",
   "metadata": {},
   "outputs": [],
   "source": [
    "# check if supplied experiment dict contains an upload with matching `real_name`\n",
    "def uploads_contain_file(full_exp, filename):\n",
    "    for upload in full_exp.get(\"uploads\", []):\n",
    "        if filename in upload[\"real_name\"]:\n",
    "            return True\n",
    "    return False\n",
    "\n",
    "\n",
    "# get all experiments belonging to `owner` that don't already have an upload matching `exclude_filename`\n",
    "# returns a dict of {id : experiment_as_dict}\n",
    "def get_and_filter_experiments(owner, exclude_filename):\n",
    "    experiments = {}\n",
    "    for exp in mease_elabftw.util.get_experiments():\n",
    "        if owner in exp[\"fullname\"]:\n",
    "            # need to get full experiment to check uploads\n",
    "            full_exp = mease_elabftw.util.get_experiment(int(exp[\"id\"]))\n",
    "            if not uploads_contain_file(full_exp, exclude_filename):\n",
    "                experiments[int(exp[\"id\"])] = full_exp\n",
    "    return experiments"
   ]
  },
  {
   "cell_type": "code",
   "execution_count": null,
   "id": "f8374cdc",
   "metadata": {},
   "outputs": [],
   "source": [
    "# e.g. get all experiments with owner that matches \"Liam\"\n",
    "# excluding any that already have an uploaded file that matches \"hamming.txt\"\n",
    "experiments = get_and_filter_experiments(\"Liam\", \"hamming.txt\")\n",
    "print(experiments.keys())"
   ]
  },
  {
   "cell_type": "markdown",
   "id": "6ce58a22",
   "metadata": {},
   "source": [
    "### View metadata, linked item, etc from experiment"
   ]
  },
  {
   "cell_type": "code",
   "execution_count": null,
   "id": "2d859f13",
   "metadata": {},
   "outputs": [],
   "source": [
    "experiments[156]"
   ]
  },
  {
   "cell_type": "markdown",
   "id": "db70450f",
   "metadata": {},
   "source": [
    "## Upload a file to an experiment"
   ]
  },
  {
   "cell_type": "code",
   "execution_count": null,
   "id": "5e866865",
   "metadata": {},
   "outputs": [],
   "source": [
    "mease_elabftw.upload_file(experiment_id=1128, filename=\"test.txt\")"
   ]
  },
  {
   "cell_type": "code",
   "execution_count": null,
   "id": "03ced54c",
   "metadata": {},
   "outputs": [],
   "source": []
  }
 ],
 "metadata": {
  "kernelspec": {
   "display_name": "Python 3 (ipykernel)",
   "language": "python",
   "name": "python3"
  },
  "language_info": {
   "codemirror_mode": {
    "name": "ipython",
    "version": 3
   },
   "file_extension": ".py",
   "mimetype": "text/x-python",
   "name": "python",
   "nbconvert_exporter": "python",
   "pygments_lexer": "ipython3",
   "version": "3.9.7"
  }
 },
 "nbformat": 4,
 "nbformat_minor": 5
}
